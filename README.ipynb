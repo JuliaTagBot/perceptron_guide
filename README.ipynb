{
 "cells": [
  {
   "cell_type": "markdown",
   "metadata": {},
   "source": [
    "# Guide: quelques étapes pour programmer un perceptron\n",
    "\n",
    "\n",
    "## Utilisation de python pour charger des images et les convertir\n",
    "\n",
    "### Les images\n",
    "\n",
    "Avec votre éditeur d'images préféré, vous pouvez créer une image et la sauvegarder sous un certain format, c'est à dire une manière d'encoder l'image. Ici on prendra l'exemple du format **.png**\n",
    "\n",
    "Lorsque que vous sauvegardez, faites-attention au nombre de pixels de l'image, on veut ici des images qui ont toutes la meme taille (dans notre exemple 50x50).\n",
    "\n",
    "Voici un exemple d'image:\n",
    "![Un A en noir sur blanc d'une taille 50x50 pixels](training_set_perceptron/A1.png \"Logo Title Text 1\")\n",
    "\n",
    "\n",
    "Vous trouverez 8 exemples d'images dans le dossier [training_set_perceptron](training_set_perceptron), que vous pouvez télécharger. Je vous encourage à créer les votres.\n",
    "\n",
    "### Chargement des images dans python\n"
   ]
  }
 ],
 "metadata": {
  "anaconda-cloud": {},
  "kernelspec": {
   "display_name": "Python [default]",
   "language": "python",
   "name": "python3"
  },
  "language_info": {
   "codemirror_mode": {
    "name": "ipython",
    "version": 3
   },
   "file_extension": ".py",
   "mimetype": "text/x-python",
   "name": "python",
   "nbconvert_exporter": "python",
   "pygments_lexer": "ipython3",
   "version": "3.5.2"
  },
  "toc": {
   "nav_menu": {
    "height": "96px",
    "width": "252px"
   },
   "navigate_menu": true,
   "number_sections": true,
   "sideBar": true,
   "threshold": 4,
   "toc_cell": false,
   "toc_section_display": "block",
   "toc_window_display": false
  }
 },
 "nbformat": 4,
 "nbformat_minor": 1
}
